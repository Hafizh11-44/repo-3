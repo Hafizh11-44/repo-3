{
 "cells": [
  {
   "cell_type": "code",
   "execution_count": 1,
   "metadata": {
    "colab": {
     "base_uri": "https://localhost:8080/",
     "height": 217,
     "referenced_widgets": [
      "ffd4b88263294cdab687039363107756",
      "2473cfb07ef24e6890030a387621c5ff",
      "60603e52420444fd8aee5954b720e981",
      "164bd63844c546d59dc453af7060f529",
      "18dc2f69670d4695a2815a3c78871223",
      "ccd005748da14b4083eb04905bd406f4",
      "21ad1ae998cb4f369917e879b9cb5127",
      "61e80b9f465e49c8864743ec197a9104",
      "25bcacc98cd7493390c69263b4b03ac5",
      "66ed66c1bcfd47c9b07b181b41eb6cff",
      "1cad9aba1fb24ce1b46bced58b6f2289",
      "073fc891f3634a71a42f030a1cf845a0",
      "bc550b776ab34375b8c7002866e7d10b",
      "9515d583b2754c7e9371c861b19c4fa9",
      "c1e8a8a53f8341338b66a197531243cc",
      "7828585043984cba9b95df19c912fbf9",
      "ab8f9b303e6f41d39f235117e628625f",
      "94f4173f5a5c4253a87822e82b3c3af5",
      "a783cebd704a44089e1c4e597d8bdc60",
      "5cf716f10cb24eee8633ecafb0e0272b",
      "e1710ba8e4574e4a81af2eb736fd069c",
      "1b8d2fc7d03541d0b906889a650045e9",
      "e394948fbe924191abf155789c09fa0c",
      "76cc6aea64664af39db0da791a38b3d5",
      "c013e9c4102c4628b6dab16140c160c6",
      "293f02390a3f49db80c3d101a35a7fa3",
      "65888aa48adc4ad9a5d52811c68e563a",
      "53be7ba56da74c26a52775c1f2ec73b7",
      "ad7a1ba1167c4450acd1df4f0e582a1c",
      "4531ad9547224089afd8e60ae058376b",
      "31e6110233a748fe9bd76aeb4def6597",
      "7cf382ba6a1241be97b58580457e777d",
      "368a7b75d95647c180e2e7bcd96ce8cf",
      "5f24532688444f43ba82d5938dc95708",
      "4c93f8a7d278411fa3378bd6c5498eb1",
      "1a0b5b5eb8534adbace0400d40bfb24f",
      "318fab068d0f4a68a763a1a0065de33c",
      "ca6d6c91f9a442c69a38025b527f2db4",
      "81923a4b7b244b32be7df84224b216ff",
      "f1262ccdaa914c0a8035a338d0cbb36f",
      "72132ccd3a49482d8c3e2bb2f4885f52",
      "8ac2781cc97a4f15872a92f6f826cbed",
      "3a90861b4c2d43f19e51128a5c89d31d",
      "8aac6adfe520428d908b27fe5539b5af",
      "f4fbd134a26f465cb7f02d6a5ffa5b03",
      "e7f5124db3474efb8c38fee81953a486",
      "b3c76f0eb7c34a80bf7e8bb5183fa24b",
      "13ccd172dbf54215a47112b3e24fe9df",
      "11128a60685a43ab8857c40cf53e9224",
      "b53ad95ecfc14447beb4e6a182e490d3",
      "a921a419d48a4a68835d90bd7b34725c",
      "62a7cda27650478fa8c2f51120ff3497",
      "5f17b1f79d62482f8fe06e5c479f33bf",
      "78fe84ec34f34ab9889f62533f5bb0b1",
      "21550523a32249d4a4360b18998478aa",
      "ea8d3600509e4955b49f62c675c0add5",
      "d3133992f2924f15a172ea9ad35d817c",
      "19b9c322ddf24087ab22b946ec62b0af",
      "e5f3bbe23a2b430a824804655c9cf822",
      "550e4b3a55404e3c98fb387289380ceb",
      "b0ddb77759fc44fba73d9cc0f81695e1",
      "e2dbf9bf84884296942b59aef02a2dc0",
      "4de3bd74c2c24b48a2ed090ff2d96853",
      "43fab4037cec478fbe9f5720556b7519",
      "23948234ab7949d6a0605bcbf8cd9756",
      "8c4c2b3f8fdd4b03a5f67d03228ee940",
      "501dff50be894e75a978ede4e620f1f5",
      "e01cf69b766d4d97afdeb18067ded58e",
      "777af35425324d1fb22ca951e9e2a2ab",
      "1ba6c1e8ffa04ec59e3246fae1b794fd",
      "a0cd6434bc654cb98525319d93d72425",
      "b6d8d97b834241dfa0162c1267280851",
      "d35da240ac3848a590796db303cd5a40",
      "b55beb1068564f3180dab29741ec4adf",
      "d071d5abd68140439255d826174da395",
      "6ec9318192e14096a4f58841237ca3bd",
      "dd2b029a09ef483c8deec110b439c95b",
      "72da358accde4ef28fb143d3cc4f972a",
      "1cd772fa0dc640cb98513cf470244128",
      "55ad03afd29547f692ccfede4f08cec6",
      "566fd5add0764c5995acc1843474e9bd",
      "1e0bd629dfb749738ca20832f3566cb5",
      "d37de66322274c358f699eed746c06bb",
      "d593d65939214f41b6ce58f21abbf5d3",
      "a28b1bf55d3944858c7427e768f534f8",
      "474112c4240342f99d39445b72df359d",
      "54143c73289944d2859038caed2f81f2",
      "d3431fb7777345a4a09ec9853c53bbb4",
      "556b831da5fd4d02be15cf36caa2bf2e",
      "f4eebfed9bb04fc4ac6c4c5e38cf4cd7",
      "e6e5173d4f25492b9accce2349861a98",
      "209b4fd2964d4da8be3ea394abcc7fde",
      "dfd600d6e111455e97a3024f4d836047",
      "600f077105aa4455a372fdefda8b7614",
      "4846a85e94cb432992bcc45ae04a854b",
      "489881269f474d888b019e0d79cc7815",
      "f6ffc0e8c97949b6b92fb20079340301",
      "4e0310f6cf39489fb93e3fb8acaa2cd4",
      "fb8f26880a0443cf9525d03132db1101"
     ]
    },
    "executionInfo": {
     "elapsed": 78540,
     "status": "ok",
     "timestamp": 1748693905049,
     "user": {
      "displayName": "Hafizh Naufal",
      "userId": "07965820272685013968"
     },
     "user_tz": -420
    },
    "id": "0FoQ7-NgRgOF",
    "outputId": "82f7d5c2-647b-4ae3-f623-6341743ea2be"
   },
   "outputs": [
    {
     "name": "stderr",
     "output_type": "stream",
     "text": [
      "WARNING:absl:Variant folder /root/tensorflow_datasets/emnist/letters/3.1.0 has no dataset_info.json\n"
     ]
    },
    {
     "name": "stdout",
     "output_type": "stream",
     "text": [
      "Downloading and preparing dataset Unknown size (download: Unknown size, generated: Unknown size, total: Unknown size) to /root/tensorflow_datasets/emnist/letters/3.1.0...\n"
     ]
    },
    {
     "data": {
      "application/vnd.jupyter.widget-view+json": {
       "model_id": "ffd4b88263294cdab687039363107756",
       "version_major": 2,
       "version_minor": 0
      },
      "text/plain": [
       "Dl Completed...: 0 url [00:00, ? url/s]"
      ]
     },
     "metadata": {},
     "output_type": "display_data"
    },
    {
     "data": {
      "application/vnd.jupyter.widget-view+json": {
       "model_id": "073fc891f3634a71a42f030a1cf845a0",
       "version_major": 2,
       "version_minor": 0
      },
      "text/plain": [
       "Dl Size...: 0 MiB [00:00, ? MiB/s]"
      ]
     },
     "metadata": {},
     "output_type": "display_data"
    },
    {
     "data": {
      "application/vnd.jupyter.widget-view+json": {
       "model_id": "e394948fbe924191abf155789c09fa0c",
       "version_major": 2,
       "version_minor": 0
      },
      "text/plain": [
       "Extraction completed...: 0 file [00:00, ? file/s]"
      ]
     },
     "metadata": {},
     "output_type": "display_data"
    },
    {
     "data": {
      "application/vnd.jupyter.widget-view+json": {
       "model_id": "5f24532688444f43ba82d5938dc95708",
       "version_major": 2,
       "version_minor": 0
      },
      "text/plain": [
       "Extraction completed...: 0 file [00:00, ? file/s]"
      ]
     },
     "metadata": {},
     "output_type": "display_data"
    },
    {
     "data": {
      "application/vnd.jupyter.widget-view+json": {
       "model_id": "f4fbd134a26f465cb7f02d6a5ffa5b03",
       "version_major": 2,
       "version_minor": 0
      },
      "text/plain": [
       "Generating splits...:   0%|          | 0/2 [00:00<?, ? splits/s]"
      ]
     },
     "metadata": {},
     "output_type": "display_data"
    },
    {
     "data": {
      "application/vnd.jupyter.widget-view+json": {
       "model_id": "ea8d3600509e4955b49f62c675c0add5",
       "version_major": 2,
       "version_minor": 0
      },
      "text/plain": [
       "Generating train examples...: 0 examples [00:00, ? examples/s]"
      ]
     },
     "metadata": {},
     "output_type": "display_data"
    },
    {
     "data": {
      "application/vnd.jupyter.widget-view+json": {
       "model_id": "501dff50be894e75a978ede4e620f1f5",
       "version_major": 2,
       "version_minor": 0
      },
      "text/plain": [
       "Shuffling /root/tensorflow_datasets/emnist/letters/incomplete.8M86I8_3.1.0/emnist-train.tfrecord*...:   0%|   …"
      ]
     },
     "metadata": {},
     "output_type": "display_data"
    },
    {
     "data": {
      "application/vnd.jupyter.widget-view+json": {
       "model_id": "72da358accde4ef28fb143d3cc4f972a",
       "version_major": 2,
       "version_minor": 0
      },
      "text/plain": [
       "Generating test examples...: 0 examples [00:00, ? examples/s]"
      ]
     },
     "metadata": {},
     "output_type": "display_data"
    },
    {
     "data": {
      "application/vnd.jupyter.widget-view+json": {
       "model_id": "556b831da5fd4d02be15cf36caa2bf2e",
       "version_major": 2,
       "version_minor": 0
      },
      "text/plain": [
       "Shuffling /root/tensorflow_datasets/emnist/letters/incomplete.8M86I8_3.1.0/emnist-test.tfrecord*...:   0%|    …"
      ]
     },
     "metadata": {},
     "output_type": "display_data"
    },
    {
     "name": "stdout",
     "output_type": "stream",
     "text": [
      "Dataset emnist downloaded and prepared to /root/tensorflow_datasets/emnist/letters/3.1.0. Subsequent calls will reuse this data.\n"
     ]
    }
   ],
   "source": [
    "import tensorflow_datasets as tfds\n",
    "import tensorflow as tf\n",
    "import numpy as np\n",
    "import matplotlib.pyplot as plt\n",
    "\n",
    "# Ambil dataset EMNIST (letters)\n",
    "(ds_train, ds_test), ds_info = tfds.load(\n",
    "    'emnist/letters',\n",
    "    split=['train', 'test'],\n",
    "    shuffle_files=True,\n",
    "    as_supervised=True,\n",
    "    with_info=True\n",
    ")"
   ]
  },
  {
   "cell_type": "code",
   "execution_count": 2,
   "metadata": {
    "executionInfo": {
     "elapsed": 103,
     "status": "ok",
     "timestamp": 1748693943596,
     "user": {
      "displayName": "Hafizh Naufal",
      "userId": "07965820272685013968"
     },
     "user_tz": -420
    },
    "id": "0WfBv-rlRhP4"
   },
   "outputs": [],
   "source": [
    "# Fungsi untuk filter A–J dan preprocessing\n",
    "def filter_aj(image, label):\n",
    "    return tf.less_equal(label, 10)\n",
    "\n",
    "def preprocess(image, label):\n",
    "    image = tf.cast(image, tf.float32) / 255.0\n",
    "    label = label - 1  # label 1–10 jadi 0–9\n",
    "    return image, label\n",
    "\n",
    "# Terapkan filter dan preprocessing\n",
    "ds_train = ds_train.filter(filter_aj).map(preprocess).batch(32).prefetch(1)\n",
    "ds_test = ds_test.filter(filter_aj).map(preprocess).batch(32).prefetch(1)"
   ]
  },
  {
   "cell_type": "code",
   "execution_count": 3,
   "metadata": {
    "colab": {
     "base_uri": "https://localhost:8080/"
    },
    "executionInfo": {
     "elapsed": 217,
     "status": "ok",
     "timestamp": 1748693945660,
     "user": {
      "displayName": "Hafizh Naufal",
      "userId": "07965820272685013968"
     },
     "user_tz": -420
    },
    "id": "QByNZcQrR4o3",
    "outputId": "c64bcc26-acd8-44f4-ec68-b1253ca55590"
   },
   "outputs": [
    {
     "name": "stderr",
     "output_type": "stream",
     "text": [
      "/usr/local/lib/python3.11/dist-packages/keras/src/layers/reshaping/flatten.py:37: UserWarning: Do not pass an `input_shape`/`input_dim` argument to a layer. When using Sequential models, prefer using an `Input(shape)` object as the first layer in the model instead.\n",
      "  super().__init__(**kwargs)\n"
     ]
    }
   ],
   "source": [
    "from tensorflow.keras.models import Sequential\n",
    "from tensorflow.keras.layers import Flatten, Dense\n",
    "\n",
    "model = Sequential([\n",
    "    Flatten(input_shape=(28, 28)),        # Ubah gambar ke 1D\n",
    "    Dense(128, activation='relu'),        # Hidden layer\n",
    "    Dense(10, activation='softmax')       # 10 kelas: A–J\n",
    "])"
   ]
  },
  {
   "cell_type": "code",
   "execution_count": 4,
   "metadata": {
    "colab": {
     "base_uri": "https://localhost:8080/"
    },
    "executionInfo": {
     "elapsed": 76303,
     "status": "ok",
     "timestamp": 1748694025532,
     "user": {
      "displayName": "Hafizh Naufal",
      "userId": "07965820272685013968"
     },
     "user_tz": -420
    },
    "id": "i7xogWM8R7l2",
    "outputId": "05a577bb-f899-48e7-b2e9-ac61990032da"
   },
   "outputs": [
    {
     "name": "stdout",
     "output_type": "stream",
     "text": [
      "Epoch 1/5\n",
      "   1061/Unknown \u001b[1m14s\u001b[0m 12ms/step - accuracy: 0.7425 - loss: 0.8208"
     ]
    },
    {
     "name": "stderr",
     "output_type": "stream",
     "text": [
      "/usr/local/lib/python3.11/dist-packages/keras/src/trainers/epoch_iterator.py:151: UserWarning: Your input ran out of data; interrupting training. Make sure that your dataset or generator can generate at least `steps_per_epoch * epochs` batches. You may need to use the `.repeat()` function when building your dataset.\n",
      "  self._interrupted_warning()\n"
     ]
    },
    {
     "name": "stdout",
     "output_type": "stream",
     "text": [
      "\b\b\b\b\b\b\b\b\b\b\b\b\b\b\b\b\b\b\b\b\b\b\b\b\b\b\b\b\b\b\b\b\b\b\b\b\b\b\b\b\b\b\b\b\b\b\b\b\b\b\b\b\b\b\b\b\b\b\b\b\b\b\b\r",
      "\u001b[1m1065/1065\u001b[0m \u001b[32m━━━━━━━━━━━━━━━━━━━━\u001b[0m\u001b[37m\u001b[0m \u001b[1m16s\u001b[0m 14ms/step - accuracy: 0.7429 - loss: 0.8196 - val_accuracy: 0.8915 - val_loss: 0.3741\n",
      "Epoch 2/5\n",
      "\u001b[1m1065/1065\u001b[0m \u001b[32m━━━━━━━━━━━━━━━━━━━━\u001b[0m\u001b[37m\u001b[0m \u001b[1m9s\u001b[0m 9ms/step - accuracy: 0.9019 - loss: 0.3263 - val_accuracy: 0.9175 - val_loss: 0.2885\n",
      "Epoch 3/5\n",
      "\u001b[1m1065/1065\u001b[0m \u001b[32m━━━━━━━━━━━━━━━━━━━━\u001b[0m\u001b[37m\u001b[0m \u001b[1m10s\u001b[0m 10ms/step - accuracy: 0.9281 - loss: 0.2395 - val_accuracy: 0.9259 - val_loss: 0.2578\n",
      "Epoch 4/5\n",
      "\u001b[1m1065/1065\u001b[0m \u001b[32m━━━━━━━━━━━━━━━━━━━━\u001b[0m\u001b[37m\u001b[0m \u001b[1m11s\u001b[0m 11ms/step - accuracy: 0.9416 - loss: 0.1939 - val_accuracy: 0.9306 - val_loss: 0.2453\n",
      "Epoch 5/5\n",
      "\u001b[1m1065/1065\u001b[0m \u001b[32m━━━━━━━━━━━━━━━━━━━━\u001b[0m\u001b[37m\u001b[0m \u001b[1m19s\u001b[0m 10ms/step - accuracy: 0.9526 - loss: 0.1623 - val_accuracy: 0.9339 - val_loss: 0.2404\n"
     ]
    },
    {
     "data": {
      "text/plain": [
       "<keras.src.callbacks.history.History at 0x7e6865347690>"
      ]
     },
     "execution_count": 4,
     "metadata": {},
     "output_type": "execute_result"
    }
   ],
   "source": [
    "model.compile(optimizer='adam', loss='sparse_categorical_crossentropy', metrics=['accuracy'])\n",
    "model.fit(ds_train, epochs=5, validation_data=ds_test)"
   ]
  },
  {
   "cell_type": "code",
   "execution_count": 5,
   "metadata": {
    "colab": {
     "base_uri": "https://localhost:8080/",
     "height": 463
    },
    "executionInfo": {
     "elapsed": 49858,
     "status": "ok",
     "timestamp": 1748694156581,
     "user": {
      "displayName": "Hafizh Naufal",
      "userId": "07965820272685013968"
     },
     "user_tz": -420
    },
    "id": "SNYTk7NMR93H",
    "outputId": "fdf08e8e-dbc8-4cea-bc29-40e5879546a8"
   },
   "outputs": [
    {
     "data": {
      "image/png": "[encoded data removed]",
      "text/plain": [
       "<Figure size 640x480 with 1 Axes>"
      ]
     },
     "metadata": {},
     "output_type": "display_data"
    },
    {
     "name": "stdout",
     "output_type": "stream",
     "text": [
      "\u001b[1m1/1\u001b[0m \u001b[32m━━━━━━━━━━━━━━━━━━━━\u001b[0m\u001b[37m\u001b[0m \u001b[1m0s\u001b[0m 76ms/step\n",
      "Model menebak ini adalah huruf: H\n"
     ]
    }
   ],
   "source": [
    "# Ambil 1 batch gambar dari test set\n",
    "for images, labels in ds_test.take(1):\n",
    "    sample_image = images[0]\n",
    "    sample_label = labels[0]\n",
    "\n",
    "# Tampilkan gambar\n",
    "plt.imshow(sample_image.numpy(), cmap='gray')\n",
    "plt.title(\"Gambar yang diuji\")\n",
    "plt.axis('off')\n",
    "plt.show()\n",
    "\n",
    "# Prediksi\n",
    "prediksi = model.predict(tf.expand_dims(sample_image, axis=0))\n",
    "huruf_tebakan = chr(np.argmax(prediksi) + ord('A'))\n",
    "print(f\"Model menebak ini adalah huruf: {huruf_tebakan}\")"
   ]
  },
  {
   "cell_type": "code",
   "execution_count": null,
   "metadata": {
    "id": "GlCZbMC_SoDs"
   },
   "outputs": [],
   "source": []
  }
 ],
 "metadata": {
  "colab": {
   "authorship_tag": "ABX9TyOLM/0H+Hs7JsWAGs7RqAGW",
   "provenance": []
  },
  "kernelspec": {
   "display_name": "Python 3",
   "name": "python3"
  },
  "language_info": {
   "name": "python"
  }
 },
 "nbformat": 4,
 "nbformat_minor": 0
}
